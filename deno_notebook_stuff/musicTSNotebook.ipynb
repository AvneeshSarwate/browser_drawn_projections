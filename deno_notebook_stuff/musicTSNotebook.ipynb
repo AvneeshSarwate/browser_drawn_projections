{
 "cells": [
  {
   "cell_type": "code",
   "execution_count": 1,
   "id": "734141f5-dd7b-47ec-bd62-b6bae5abff5d",
   "metadata": {},
   "outputs": [
    {
     "data": {
      "text/plain": [
       "\u001b[33m20\u001b[39m"
      ]
     },
     "execution_count": 1,
     "metadata": {},
     "output_type": "execute_result"
    }
   ],
   "source": [
    "let addr = (a: number, b: number) => a + b\n",
    "addr(10, 10)"
   ]
  },
  {
   "cell_type": "code",
   "execution_count": 2,
   "id": "34d9ed96-db3e-42ff-b652-09fdb9195d5b",
   "metadata": {},
   "outputs": [
    {
     "name": "stdout",
     "output_type": "stream",
     "text": [
      "\u001b[36m[class Zipper extends FiniteCombiner]\u001b[39m\n",
      "[\n",
      "  { nums: \u001b[33m1\u001b[39m, letters: \u001b[32m\"a\"\u001b[39m },\n",
      "  { nums: \u001b[33m2\u001b[39m, letters: \u001b[32m\"b\"\u001b[39m },\n",
      "  { nums: \u001b[33m3\u001b[39m, letters: \u001b[32m\"c\"\u001b[39m },\n",
      "  { nums: \u001b[33m1\u001b[39m, letters: \u001b[32m\"f\"\u001b[39m },\n",
      "  { nums: \u001b[33m2\u001b[39m, letters: \u001b[32m\"a\"\u001b[39m },\n",
      "  { nums: \u001b[33m3\u001b[39m, letters: \u001b[32m\"b\"\u001b[39m },\n",
      "  { nums: \u001b[33m1\u001b[39m, letters: \u001b[32m\"c\"\u001b[39m },\n",
      "  { nums: \u001b[33m2\u001b[39m, letters: \u001b[32m\"f\"\u001b[39m },\n",
      "  { nums: \u001b[33m3\u001b[39m, letters: \u001b[32m\"a\"\u001b[39m },\n",
      "  { nums: \u001b[33m1\u001b[39m, letters: \u001b[32m\"b\"\u001b[39m }\n",
      "]\n"
     ]
    }
   ],
   "source": [
    "import { Zipper } from \"../src/creativeAlgs/combiners.ts\" //path comes from where jupyter server is run\n",
    "\n",
    "const stuff = {\n",
    "  nums: [1, 2, 3],\n",
    "  letters: ['a', 'b', 'c', 'f']\n",
    "}\n",
    "console.log(Zipper)\n",
    "const z = new Zipper(stuff)\n",
    "const out10 = z.nextN(10)\n",
    "console.log(out10)"
   ]
  },
  {
   "cell_type": "code",
   "execution_count": 8,
   "id": "c6781c5a-20eb-4c41-ad29-05eca8b4e782",
   "metadata": {},
   "outputs": [
    {
     "name": "stdout",
     "output_type": "stream",
     "text": [
      "Zipper {\n",
      "  lists: { nums: [ \u001b[33m1\u001b[39m, \u001b[33m2\u001b[39m, \u001b[33m3\u001b[39m ], letters: [ \u001b[32m\"a\"\u001b[39m, \u001b[32m\"b\"\u001b[39m, \u001b[32m\"c\"\u001b[39m, \u001b[32m\"f\"\u001b[39m ] },\n",
      "  indexes: { nums: \u001b[33m1\u001b[39m, letters: \u001b[33m2\u001b[39m }\n",
      "}\n"
     ]
    }
   ],
   "source": [
    "import { Zipper } from \"./src/creativeAlgs/combiners.ts\";\n",
    "\n",
    "\n",
    "console.log(zz)"
   ]
  }
 ],
 "metadata": {
  "kernelspec": {
   "display_name": "Deno",
   "language": "typescript",
   "name": "deno"
  },
  "language_info": {
   "codemirror_mode": "typescript",
   "file_extension": ".ts",
   "mimetype": "text/x.typescript",
   "name": "typescript",
   "nbconvert_exporter": "script",
   "pygments_lexer": "typescript",
   "version": "5.5.2"
  }
 },
 "nbformat": 4,
 "nbformat_minor": 5
}
