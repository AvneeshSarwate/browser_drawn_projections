{
 "cells": [
  {
   "cell_type": "markdown",
   "id": "49f8c412-1fc4-4f2e-bf11-e0fde629e8b1",
   "metadata": {},
   "source": [
    "example of pulling in local libs with tslab - https://github.com/yunabe/tslab?tab=readme-ov-file"
   ]
  },
  {
   "cell_type": "code",
   "execution_count": 1,
   "id": "45cc476d-85b8-4fec-b76a-a123df51acb4",
   "metadata": {},
   "outputs": [],
   "source": [
    "import { Zipper } from './src/creativeAlgs/combiners'"
   ]
  },
  {
   "cell_type": "code",
   "execution_count": 2,
   "id": "d14edf4b-bf45-44b3-bc03-ad1c9d2ef257",
   "metadata": {},
   "outputs": [],
   "source": [
    "let z = new Zipper({l1: ['a', 'b'], l2: ['c', 'd']})"
   ]
  },
  {
   "cell_type": "code",
   "execution_count": 3,
   "id": "63ff7e45-dbe2-49d3-9cf1-2a5b4c6696b7",
   "metadata": {},
   "outputs": [
    {
     "name": "stdout",
     "output_type": "stream",
     "text": [
      "[\n",
      "  { l1: \u001b[32m'a'\u001b[39m, l2: \u001b[32m'c'\u001b[39m },\n",
      "  { l1: \u001b[32m'b'\u001b[39m, l2: \u001b[32m'd'\u001b[39m },\n",
      "  { l1: \u001b[32m'a'\u001b[39m, l2: \u001b[32m'c'\u001b[39m },\n",
      "  { l1: \u001b[32m'b'\u001b[39m, l2: \u001b[32m'd'\u001b[39m },\n",
      "  { l1: \u001b[32m'a'\u001b[39m, l2: \u001b[32m'c'\u001b[39m },\n",
      "  { l1: \u001b[32m'b'\u001b[39m, l2: \u001b[32m'd'\u001b[39m },\n",
      "  { l1: \u001b[32m'a'\u001b[39m, l2: \u001b[32m'c'\u001b[39m }\n",
      "]\n"
     ]
    }
   ],
   "source": [
    "z.nextN(7)"
   ]
  },
  {
   "cell_type": "code",
   "execution_count": null,
   "id": "bc84cc3f-d8b7-4568-b5be-6644fa408489",
   "metadata": {},
   "outputs": [],
   "source": [
    "z."
   ]
  }
 ],
 "metadata": {
  "kernelspec": {
   "display_name": "TypeScript",
   "language": "typescript",
   "name": "tslab"
  },
  "language_info": {
   "codemirror_mode": {
    "mode": "typescript",
    "name": "javascript",
    "typescript": true
   },
   "file_extension": ".ts",
   "mimetype": "text/typescript",
   "name": "typescript",
   "version": "3.7.2"
  }
 },
 "nbformat": 4,
 "nbformat_minor": 5
}
